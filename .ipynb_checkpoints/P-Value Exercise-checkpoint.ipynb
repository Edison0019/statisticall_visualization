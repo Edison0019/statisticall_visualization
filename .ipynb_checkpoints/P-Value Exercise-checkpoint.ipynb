{
 "cells": [
  {
   "cell_type": "code",
   "execution_count": 1,
   "id": "modified-photographer",
   "metadata": {},
   "outputs": [],
   "source": [
    "import numpy as np\n",
    "import matplotlib.pyplot as plt"
   ]
  },
  {
   "cell_type": "code",
   "execution_count": 2,
   "id": "liquid-jimmy",
   "metadata": {},
   "outputs": [],
   "source": [
    "sample = np.append(np.zeros(900),np.ones(100))"
   ]
  },
  {
   "cell_type": "code",
   "execution_count": 40,
   "id": "voluntary-evidence",
   "metadata": {},
   "outputs": [],
   "source": [
    "dist = []\n",
    "for _ in range(1000):\n",
    "    v = np.random.choice(sample,size=(500,2),replace=False).mean(axis=0)\n",
    "    dist.append(np.diff(v)[0])"
   ]
  },
  {
   "cell_type": "code",
   "execution_count": 42,
   "id": "shaped-installation",
   "metadata": {},
   "outputs": [
    {
     "data": {
      "image/png": "[encoded data removed]",
      "text/plain": [
       "<Figure size 432x288 with 1 Axes>"
      ]
     },
     "metadata": {
      "needs_background": "light"
     },
     "output_type": "display_data"
    }
   ],
   "source": [
    "plt.hist(dist)\n",
    "plt.fill_betweenx([0,325],np.percentile(dist,2.5),np.percentile(dist,97.5),alpha=0.3,color='g')\n",
    "plt.show()"
   ]
  }
 ],
 "metadata": {
  "kernelspec": {
   "display_name": "Python 3",
   "language": "python",
   "name": "python3"
  },
  "language_info": {
   "codemirror_mode": {
    "name": "ipython",
    "version": 3
   },
   "file_extension": ".py",
   "mimetype": "text/x-python",
   "name": "python",
   "nbconvert_exporter": "python",
   "pygments_lexer": "ipython3",
   "version": "3.8.5"
  }
 },
 "nbformat": 4,
 "nbformat_minor": 5
}
