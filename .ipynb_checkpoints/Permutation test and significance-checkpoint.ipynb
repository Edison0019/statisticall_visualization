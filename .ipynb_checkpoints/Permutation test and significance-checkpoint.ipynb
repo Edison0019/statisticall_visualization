{
 "cells": [
  {
   "cell_type": "code",
   "execution_count": 1,
   "id": "solar-spyware",
   "metadata": {},
   "outputs": [],
   "source": [
    "import numpy as np\n",
    "import matplotlib.pyplot as plt"
   ]
  },
  {
   "cell_type": "code",
   "execution_count": 2,
   "id": "fifteen-moscow",
   "metadata": {},
   "outputs": [],
   "source": [
    "sample = np.append(np.zeros(45945),np.ones(382))"
   ]
  },
  {
   "cell_type": "code",
   "execution_count": 45,
   "id": "mighty-fifty",
   "metadata": {},
   "outputs": [],
   "source": [
    "def permute_sample(iterations,sample_values):\n",
    "    output = list()\n",
    "    for _ in range(iterations):\n",
    "        np.random.shuffle(sample_values)\n",
    "        a,n,b = np.split(sample_values,(23739,22588))\n",
    "        output.append((np.mean(a) - np.mean(b)) * 100)\n",
    "    return output"
   ]
  },
  {
   "cell_type": "code",
   "execution_count": 54,
   "id": "literary-argentina",
   "metadata": {},
   "outputs": [
    {
     "data": {
      "image/png": "[encoded data removed]",
      "text/plain": [
       "<Figure size 720x360 with 1 Axes>"
      ]
     },
     "metadata": {
      "needs_background": "light"
     },
     "output_type": "display_data"
    }
   ],
   "source": [
    "obs_diff = 100 * (200/23739 - 182 / 22588)\n",
    "fig, ax = plt.subplots(figsize=(10,5))\n",
    "ax.hist(permute_sample(1000,sample))\n",
    "ax.text(0.06,200,'Observed\\ndifference',bbox={'facecolor':'white'})\n",
    "ax.axvline(x=obs_diff,color='black',lw=2,ls='--')\n",
    "plt.show()"
   ]
  },
  {
   "cell_type": "code",
   "execution_count": null,
   "id": "vocational-compatibility",
   "metadata": {},
   "outputs": [],
   "source": []
  }
 ],
 "metadata": {
  "kernelspec": {
   "display_name": "Python 3",
   "language": "python",
   "name": "python3"
  },
  "language_info": {
   "codemirror_mode": {
    "name": "ipython",
    "version": 3
   },
   "file_extension": ".py",
   "mimetype": "text/x-python",
   "name": "python",
   "nbconvert_exporter": "python",
   "pygments_lexer": "ipython3",
   "version": "3.8.5"
  }
 },
 "nbformat": 4,
 "nbformat_minor": 5
}
