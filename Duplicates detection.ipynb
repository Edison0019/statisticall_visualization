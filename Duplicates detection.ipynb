{
 "cells": [
  {
   "cell_type": "markdown",
   "id": "241bd4a4",
   "metadata": {},
   "source": [
    "## Duplicate detection for 1-d list of arrays"
   ]
  },
  {
   "cell_type": "code",
   "execution_count": 3,
   "id": "1250bea8",
   "metadata": {},
   "outputs": [],
   "source": [
    "# we use spacy nlp for similarity detection\n",
    "import spacy"
   ]
  },
  {
   "cell_type": "code",
   "execution_count": 4,
   "id": "bcaa8ee2",
   "metadata": {},
   "outputs": [],
   "source": [
    "# this function will generate a dict\n",
    "# with id:list pair containing similar values\n",
    "# for identifying similar accounts in accounts dataset\n",
    "# the higher the threshold the more similarity is going to\n",
    "# be found\n",
    "def detect_duplicates(text_matrix: list,nlp,threshold=.8):\n",
    "    container = dict()\n",
    "    inner_matrix = text_matrix.copy()\n",
    "    oi = 0 #outer index\n",
    "    while oi < len(text_matrix):\n",
    "        t1 = nlp(text_matrix[oi])\n",
    "        container[oi] = list()\n",
    "        if not inner_matrix:\n",
    "            break\n",
    "        inner_matrix.pop(0)\n",
    "        ii = 0 # inner index\n",
    "        while ii < len(inner_matrix):\n",
    "            t2 = nlp(inner_matrix[ii])\n",
    "#             print(t1.text,t2.text)\n",
    "            if t1.similarity(t2) > threshold:\n",
    "                container[oi].append(t2.text)\n",
    "                inner_matrix.pop(ii)\n",
    "                text_matrix.pop(ii + oi + 1)\n",
    "                continue\n",
    "            ii += 1\n",
    "        if container[oi]:\n",
    "            container[oi].append(t1.text)\n",
    "        else:\n",
    "            container.pop(oi)\n",
    "        oi += 1\n",
    "    return container\n"
   ]
  }
 ],
 "metadata": {
  "kernelspec": {
   "display_name": "Python 3",
   "language": "python",
   "name": "python3"
  },
  "language_info": {
   "codemirror_mode": {
    "name": "ipython",
    "version": 3
   },
   "file_extension": ".py",
   "mimetype": "text/x-python",
   "name": "python",
   "nbconvert_exporter": "python",
   "pygments_lexer": "ipython3",
   "version": "3.8.5"
  }
 },
 "nbformat": 4,
 "nbformat_minor": 5
}
